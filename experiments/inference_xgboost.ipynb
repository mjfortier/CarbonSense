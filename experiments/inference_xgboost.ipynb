{
 "cells": [
  {
   "cell_type": "code",
   "execution_count": 1,
   "metadata": {
    "tags": []
   },
   "outputs": [],
   "source": [
    "import pandas as pd\n",
    "import os\n",
    "import json\n",
    "import yaml\n",
    "from pathlib import Path\n",
    "import collections\n",
    "import shutil\n",
    "from util_xgb import xgb_process_data, xgb_hyperparam_search, xgb_multi_seed_inference"
   ]
  },
  {
   "cell_type": "code",
   "execution_count": 2,
   "metadata": {
    "tags": []
   },
   "outputs": [],
   "source": [
    "run = 'default' # Run name - must be an existing directory from an EcoPerceiver experiment\n",
    "                # as it reuses the config.yml to do train/test splitting\n",
    "\n",
    "DATA_DIR = Path('data') / 'carbonsense'\n",
    "ALL_RUN_DIR = Path('runs')\n",
    "RUN_DIR = ALL_RUN_DIR / run\n",
    "CONFIG_PATH = RUN_DIR / 'config.yml'\n",
    "XGB_DIR = RUN_DIR / 'xgb'\n",
    "\n",
    "with open(CONFIG_PATH, 'r') as f:\n",
    "    config = yaml.safe_load(f)\n",
    "\n",
    "TRAIN_SITES = config['data']['train_sites']\n",
    "VAL_SITES = config['data']['val_sites']\n",
    "TEST_SITES = config['data']['test_sites']"
   ]
  },
  {
   "cell_type": "code",
   "execution_count": 14,
   "metadata": {},
   "outputs": [],
   "source": [
    "def extract_igbp(site):\n",
    "    site_dir = DATA_DIR / site\n",
    "    meta_file = site_dir / os.listdir(site_dir)[0] / 'meta.json'\n",
    "    with open(meta_file, 'r') as f:\n",
    "        d = json.load(f)\n",
    "    return d['IGBP']\n",
    "\n",
    "\n",
    "# Visualize how many of each site type were in each set\n",
    "def site_configuration():\n",
    "    igbp_values = list(set([extract_igbp(s) for s in TRAIN_SITES + VAL_SITES + TEST_SITES]))\n",
    "    train_val_igbp = {i: [0,0,0] for i in igbp_values}\n",
    "    for site in TRAIN_SITES:\n",
    "        igbp = extract_igbp(site)\n",
    "        train_val_igbp[igbp][0] += 1\n",
    "    for site in VAL_SITES:\n",
    "        igbp = extract_igbp(site)\n",
    "        train_val_igbp[igbp][1] += 1\n",
    "    for site in TEST_SITES:\n",
    "        igbp = extract_igbp(site)\n",
    "        train_val_igbp[igbp][2] += 1\n",
    "\n",
    "    site_type_distribution = pd.DataFrame(data=train_val_igbp).T.rename(columns={0: 'train', 1: 'val'})\n",
    "    site_type_distribution.to_csv(RUN_DIR / 'site_type_distribution_2.csv')"
   ]
  },
  {
   "cell_type": "code",
   "execution_count": 4,
   "metadata": {
    "tags": []
   },
   "outputs": [],
   "source": [
    "# Check for other runs with the same distribution\n",
    "def find_identical_run():\n",
    "    for d in os.listdir(ALL_RUN_DIR):\n",
    "        other_run_dir = ALL_RUN_DIR / d\n",
    "        if other_run_dir == RUN_DIR:\n",
    "            continue\n",
    "        if not os.path.exists(other_run_dir / 'config.yml'):\n",
    "            continue\n",
    "        \n",
    "        with open(other_run_dir / 'config.yml', 'r') as f:\n",
    "            other_config = yaml.safe_load(f)\n",
    "        \n",
    "        other_train_sites = other_config.get('data', {}).get('train_sites', [])\n",
    "        other_val_sites = other_config.get('data', {}).get('val_sites', [])\n",
    "        other_test_sites = other_config.get('data', {}).get('test_sites', [])\n",
    "        \n",
    "        if collections.Counter(TRAIN_SITES) == collections.Counter(other_train_sites) \\\n",
    "                and collections.Counter(VAL_SITES) == collections.Counter(other_val_sites) \\\n",
    "                and collections.Counter(TEST_SITES) == collections.Counter(other_test_sites) \\\n",
    "                and os.path.exists(other_run_dir / 'xgb'):\n",
    "            return other_run_dir\n",
    "    return None"
   ]
  },
  {
   "cell_type": "code",
   "execution_count": 5,
   "metadata": {
    "tags": []
   },
   "outputs": [],
   "source": [
    "if not os.path.exists(XGB_DIR):\n",
    "    identical_run = find_identical_run()\n",
    "    if identical_run is not None:\n",
    "        shutil.copytree(identical_run / 'xgb', XGB_DIR)\n",
    "    else:\n",
    "        os.makedirs(XGB_DIR, exist_ok=True)"
   ]
  },
  {
   "cell_type": "code",
   "execution_count": 15,
   "metadata": {
    "tags": []
   },
   "outputs": [
    {
     "name": "stdout",
     "output_type": "stream",
     "text": [
      "Processing data for XGBoost...\n",
      "  train data already compiled\n",
      "  test data already compiled\n"
     ]
    }
   ],
   "source": [
    "site_configuration()\n",
    "xgb_train_sites = TRAIN_SITES + VAL_SITES\n",
    "xgb_process_data(DATA_DIR, xgb_train_sites, TEST_SITES, XGB_DIR)"
   ]
  },
  {
   "cell_type": "code",
   "execution_count": 7,
   "metadata": {
    "tags": []
   },
   "outputs": [
    {
     "name": "stdout",
     "output_type": "stream",
     "text": [
      "Already found XGB parameters\n"
     ]
    }
   ],
   "source": [
    "# took about an hour\n",
    "param_path = XGB_DIR / 'params.json'\n",
    "score_path = XGB_DIR / 'score.txt'\n",
    "\n",
    "if os.path.exists(param_path):\n",
    "    print('Already found XGB parameters')\n",
    "else:\n",
    "    best_params, best_score = xgb_hyperparam_search(XGB_DIR, n_iter=50, target='NEE_VUT_REF')\n",
    "\n",
    "    with open(param_path, 'w') as f:\n",
    "        json.dump(best_params, f)\n",
    "    with open(score_path, 'w') as f:\n",
    "        f.write(f'{str(best_score)}\\n')"
   ]
  },
  {
   "cell_type": "code",
   "execution_count": 8,
   "metadata": {
    "tags": []
   },
   "outputs": [
    {
     "data": {
      "text/plain": [
       "{'subsample': 0.7,\n",
       " 'scale_pos_weight': 0.5,\n",
       " 'n_estimators': 150,\n",
       " 'min_child_weight': 9,\n",
       " 'max_depth': 9,\n",
       " 'lambda': 0,\n",
       " 'gamma': 0.4,\n",
       " 'eta': 0.1,\n",
       " 'colsample_bytree': 0.7,\n",
       " 'colsample_bylevel': 0.8,\n",
       " 'alpha': 0.1}"
      ]
     },
     "execution_count": 8,
     "metadata": {},
     "output_type": "execute_result"
    }
   ],
   "source": [
    "with open(param_path, 'r') as f:\n",
    "    best_params = json.load(f)\n",
    "best_params"
   ]
  },
  {
   "cell_type": "code",
   "execution_count": 9,
   "metadata": {
    "tags": []
   },
   "outputs": [
    {
     "name": "stdout",
     "output_type": "stream",
     "text": [
      "Training with seed: 0\n"
     ]
    },
    {
     "name": "stderr",
     "output_type": "stream",
     "text": [
      "/home/mila/m/matthew.fortier/projects/core_research/nee/util_xgb.py:178: SettingWithCopyWarning: \n",
      "A value is trying to be set on a copy of a slice from a DataFrame.\n",
      "Try using .loc[row_indexer,col_indexer] = value instead\n",
      "\n",
      "See the caveats in the documentation: https://pandas.pydata.org/pandas-docs/stable/user_guide/indexing.html#returning-a-view-versus-a-copy\n",
      "  test_final[f'XGBoost_{seed}'] = predictions\n"
     ]
    },
    {
     "name": "stdout",
     "output_type": "stream",
     "text": [
      "Training with seed: 10\n"
     ]
    },
    {
     "name": "stderr",
     "output_type": "stream",
     "text": [
      "/home/mila/m/matthew.fortier/projects/core_research/nee/util_xgb.py:178: SettingWithCopyWarning: \n",
      "A value is trying to be set on a copy of a slice from a DataFrame.\n",
      "Try using .loc[row_indexer,col_indexer] = value instead\n",
      "\n",
      "See the caveats in the documentation: https://pandas.pydata.org/pandas-docs/stable/user_guide/indexing.html#returning-a-view-versus-a-copy\n",
      "  test_final[f'XGBoost_{seed}'] = predictions\n"
     ]
    },
    {
     "name": "stdout",
     "output_type": "stream",
     "text": [
      "Training with seed: 20\n"
     ]
    },
    {
     "name": "stderr",
     "output_type": "stream",
     "text": [
      "/home/mila/m/matthew.fortier/projects/core_research/nee/util_xgb.py:178: SettingWithCopyWarning: \n",
      "A value is trying to be set on a copy of a slice from a DataFrame.\n",
      "Try using .loc[row_indexer,col_indexer] = value instead\n",
      "\n",
      "See the caveats in the documentation: https://pandas.pydata.org/pandas-docs/stable/user_guide/indexing.html#returning-a-view-versus-a-copy\n",
      "  test_final[f'XGBoost_{seed}'] = predictions\n"
     ]
    },
    {
     "name": "stdout",
     "output_type": "stream",
     "text": [
      "Training with seed: 30\n"
     ]
    },
    {
     "name": "stderr",
     "output_type": "stream",
     "text": [
      "/home/mila/m/matthew.fortier/projects/core_research/nee/util_xgb.py:178: SettingWithCopyWarning: \n",
      "A value is trying to be set on a copy of a slice from a DataFrame.\n",
      "Try using .loc[row_indexer,col_indexer] = value instead\n",
      "\n",
      "See the caveats in the documentation: https://pandas.pydata.org/pandas-docs/stable/user_guide/indexing.html#returning-a-view-versus-a-copy\n",
      "  test_final[f'XGBoost_{seed}'] = predictions\n"
     ]
    },
    {
     "name": "stdout",
     "output_type": "stream",
     "text": [
      "Training with seed: 40\n"
     ]
    },
    {
     "name": "stderr",
     "output_type": "stream",
     "text": [
      "/home/mila/m/matthew.fortier/projects/core_research/nee/util_xgb.py:178: SettingWithCopyWarning: \n",
      "A value is trying to be set on a copy of a slice from a DataFrame.\n",
      "Try using .loc[row_indexer,col_indexer] = value instead\n",
      "\n",
      "See the caveats in the documentation: https://pandas.pydata.org/pandas-docs/stable/user_guide/indexing.html#returning-a-view-versus-a-copy\n",
      "  test_final[f'XGBoost_{seed}'] = predictions\n"
     ]
    },
    {
     "name": "stdout",
     "output_type": "stream",
     "text": [
      "Training with seed: 50\n"
     ]
    },
    {
     "name": "stderr",
     "output_type": "stream",
     "text": [
      "/home/mila/m/matthew.fortier/projects/core_research/nee/util_xgb.py:178: SettingWithCopyWarning: \n",
      "A value is trying to be set on a copy of a slice from a DataFrame.\n",
      "Try using .loc[row_indexer,col_indexer] = value instead\n",
      "\n",
      "See the caveats in the documentation: https://pandas.pydata.org/pandas-docs/stable/user_guide/indexing.html#returning-a-view-versus-a-copy\n",
      "  test_final[f'XGBoost_{seed}'] = predictions\n"
     ]
    },
    {
     "name": "stdout",
     "output_type": "stream",
     "text": [
      "Training with seed: 60\n"
     ]
    },
    {
     "name": "stderr",
     "output_type": "stream",
     "text": [
      "/home/mila/m/matthew.fortier/projects/core_research/nee/util_xgb.py:178: SettingWithCopyWarning: \n",
      "A value is trying to be set on a copy of a slice from a DataFrame.\n",
      "Try using .loc[row_indexer,col_indexer] = value instead\n",
      "\n",
      "See the caveats in the documentation: https://pandas.pydata.org/pandas-docs/stable/user_guide/indexing.html#returning-a-view-versus-a-copy\n",
      "  test_final[f'XGBoost_{seed}'] = predictions\n"
     ]
    },
    {
     "name": "stdout",
     "output_type": "stream",
     "text": [
      "Training with seed: 70\n"
     ]
    },
    {
     "name": "stderr",
     "output_type": "stream",
     "text": [
      "/home/mila/m/matthew.fortier/projects/core_research/nee/util_xgb.py:178: SettingWithCopyWarning: \n",
      "A value is trying to be set on a copy of a slice from a DataFrame.\n",
      "Try using .loc[row_indexer,col_indexer] = value instead\n",
      "\n",
      "See the caveats in the documentation: https://pandas.pydata.org/pandas-docs/stable/user_guide/indexing.html#returning-a-view-versus-a-copy\n",
      "  test_final[f'XGBoost_{seed}'] = predictions\n"
     ]
    },
    {
     "name": "stdout",
     "output_type": "stream",
     "text": [
      "Training with seed: 80\n"
     ]
    },
    {
     "name": "stderr",
     "output_type": "stream",
     "text": [
      "/home/mila/m/matthew.fortier/projects/core_research/nee/util_xgb.py:178: SettingWithCopyWarning: \n",
      "A value is trying to be set on a copy of a slice from a DataFrame.\n",
      "Try using .loc[row_indexer,col_indexer] = value instead\n",
      "\n",
      "See the caveats in the documentation: https://pandas.pydata.org/pandas-docs/stable/user_guide/indexing.html#returning-a-view-versus-a-copy\n",
      "  test_final[f'XGBoost_{seed}'] = predictions\n"
     ]
    },
    {
     "name": "stdout",
     "output_type": "stream",
     "text": [
      "Training with seed: 90\n"
     ]
    },
    {
     "name": "stderr",
     "output_type": "stream",
     "text": [
      "/home/mila/m/matthew.fortier/projects/core_research/nee/util_xgb.py:178: SettingWithCopyWarning: \n",
      "A value is trying to be set on a copy of a slice from a DataFrame.\n",
      "Try using .loc[row_indexer,col_indexer] = value instead\n",
      "\n",
      "See the caveats in the documentation: https://pandas.pydata.org/pandas-docs/stable/user_guide/indexing.html#returning-a-view-versus-a-copy\n",
      "  test_final[f'XGBoost_{seed}'] = predictions\n"
     ]
    }
   ],
   "source": [
    "xgb_multi_seed_inference(XGB_DIR, best_params)"
   ]
  }
 ],
 "metadata": {
  "kernelspec": {
   "display_name": "Python 3 (ipykernel)",
   "language": "python",
   "name": "python3"
  },
  "language_info": {
   "codemirror_mode": {
    "name": "ipython",
    "version": 3
   },
   "file_extension": ".py",
   "mimetype": "text/x-python",
   "name": "python",
   "nbconvert_exporter": "python",
   "pygments_lexer": "ipython3",
   "version": "3.9.19"
  }
 },
 "nbformat": 4,
 "nbformat_minor": 4
}
