{
 "cells": [
  {
   "cell_type": "markdown",
   "metadata": {},
   "source": [
    "## Generate lon/lat for ICOS 2023 sites from the SITEINFO files\n",
    "This is a step that may be different for every eddy covariance data source. Before running the pipeline,\n",
    "it's important that each set of sites is accompanied by a `site_meta.csv` file listing the sites, their IGBP classifications, longitude / latitude coordinates, etc.\n",
    "\n",
    "This particular script fixes the `site_meta.csv` files for icos-2023 and icos-ww"
   ]
  },
  {
   "cell_type": "code",
   "execution_count": 2,
   "metadata": {},
   "outputs": [],
   "source": [
    "import pandas as pd\n",
    "import os"
   ]
  },
  {
   "cell_type": "code",
   "execution_count": 19,
   "metadata": {},
   "outputs": [],
   "source": [
    "DATA_DIR = os.path.join('data', 'raw', 'icos-2023', 'unzipped')\n",
    "icos_2023_sites = os.listdir(DATA_DIR)\n",
    "icos_2023_data = []\n",
    "icos_2023_problem_sites = []\n",
    "for site in icos_2023_sites:\n",
    "    files = os.listdir(os.path.join(DATA_DIR, site))\n",
    "    fluxnet_compatible_files = [f for f in files if 'SITEINFO' in f and 'Variables' not in f]\n",
    "    if len(fluxnet_compatible_files) == 0:\n",
    "        icos_2023_problem_sites.append(site)\n",
    "        continue\n",
    "    \n",
    "    file = fluxnet_compatible_files[0]\n",
    "    filepath = os.path.join(DATA_DIR, site, file)\n",
    "    df = pd.read_csv(filepath, on_bad_lines='skip')\n",
    "    lat_row = df[df['VARIABLE'] == 'LOCATION_LAT']\n",
    "    lat = lat_row.reset_index().loc[0]['DATAVALUE']\n",
    "    lon_row = df[df['VARIABLE'] == 'LOCATION_LONG']\n",
    "    lon = lon_row.reset_index().loc[0]['DATAVALUE']\n",
    "    elev_row = df[df['VARIABLE'] == 'LOCATION_ELEV']\n",
    "    elev = elev_row.reset_index().loc[0]['DATAVALUE']\n",
    "    igbp_row = df[df['VARIABLE'] == 'IGBP']\n",
    "    igbp = igbp_row.reset_index().loc[0]['DATAVALUE']\n",
    "\n",
    "\n",
    "    icos_2023_data.append((site, lat, lon, elev, igbp))\n",
    "icos_2023_df = pd.DataFrame(data=icos_2023_data, columns=['SITE_ID', 'LOCATION_LAT', 'LOCATION_LON', 'LOCATION_ELEV', 'IGBP'])\n",
    "icos_2023_df.to_csv(os.path.join('data', 'raw', 'icos-2023', 'site_data.csv'), index=False)"
   ]
  },
  {
   "cell_type": "code",
   "execution_count": 10,
   "metadata": {},
   "outputs": [],
   "source": [
    "raw_stations = pd.read_csv('misc/icos_stations.csv')\n",
    "data = []\n",
    "df = raw_stations[raw_stations['Location'].notna()]\n",
    "for i, row in df.iterrows():\n",
    "    lat, lon = [float(c.strip(',')) for c in row['Location'].strip('()').split()]\n",
    "    sid = row['Id']\n",
    "    elev = row['Elevation above sea']\n",
    "    sitetype = row['Site type']\n",
    "    data.append((sid, lat, lon, elev, sitetype))\n",
    "icos_df = pd.DataFrame(data=data, columns=['SITE_ID', 'LOCATION_LAT', 'LOCATION_LON', 'LOCATION_ELEV', 'SITE_TYPE_RAW'])"
   ]
  },
  {
   "cell_type": "code",
   "execution_count": 9,
   "metadata": {},
   "outputs": [],
   "source": [
    "type_map = {\n",
    "    'tall tower': '',\n",
    "    'evergreen needleleaf forests': 'ENF',\n",
    "    'grasslands': 'GRA',\n",
    "    'fos buoy': '',\n",
    "    'croplands': 'CRO',\n",
    "    'closed shrublands': 'CSH',\n",
    "    'mixed forests': 'MF',\n",
    "    'ground': '',\n",
    "    'urban': 'URB',\n",
    "    'mountain': '',\n",
    "    'coastal': '',\n",
    "    'mft': '',\n",
    "    'deciduous broadleaf forests': 'DBF',\n",
    "    'permanent wetlands': 'WET',\n",
    "    'wetland': 'WET',\n",
    "    'urban and built-up lands': 'URB',\n",
    "    'cropland': 'CRO',\n",
    "    'grassland': 'GRA',\n",
    "    'profiling station': '',\n",
    "    'forest': 'MF',\n",
    "    'savannas': 'SAV',\n",
    "    'soop': '',\n",
    "    'water bodies': 'WAT',\n",
    "    'fen': '',\n",
    "    'fos': '',\n",
    "    'evergreen broadleaf forests': 'EBF',\n",
    "    'open shrublands': 'OSH',\n",
    "    '(tall) tower': '',\n",
    "    'tower': '',\n",
    "    'fixed station': '',\n",
    "    'buoy, open sea': 'WAT',\n",
    "    'deciduous needleleaf forests': 'DNF',\n",
    "    'marine remote': '',\n",
    "    'coastal/continental': '',\n",
    "    'continental': '',\n",
    "    'baltic sea': '',\n",
    "    'non-forested island on sea': '',\n",
    "    'surface, land': '',\n",
    "    'remote arctic': ''\n",
    "}"
   ]
  },
  {
   "cell_type": "code",
   "execution_count": 16,
   "metadata": {},
   "outputs": [],
   "source": [
    "icos_df['IGBP'] = icos_df['SITE_TYPE_RAW'].map(type_map)\n",
    "icos_df.drop(columns=['SITE_TYPE_RAW'], inplace=True)"
   ]
  },
  {
   "cell_type": "code",
   "execution_count": 17,
   "metadata": {},
   "outputs": [
    {
     "data": {
      "text/plain": [
       "['DE-Akm',\n",
       " 'CH-Aws',\n",
       " 'SE-Ros',\n",
       " 'CH-Cha',\n",
       " 'CZ-KrP',\n",
       " 'CH-Oe2',\n",
       " 'ES-Agu',\n",
       " 'IL-Yat',\n",
       " 'BE-Lcr',\n",
       " 'RU-Fyo',\n",
       " 'ES-LJu',\n",
       " 'IT-Lav',\n",
       " 'CH-Lae',\n",
       " 'CH-Fru',\n",
       " 'DK-Gds',\n",
       " 'ES-Abr',\n",
       " 'ES-Cnd',\n",
       " 'FI-Qvd',\n",
       " 'RU-Fy2',\n",
       " 'DE-Obe',\n",
       " 'CZ-Stn',\n",
       " 'ES-LM2',\n",
       " 'ES-LM1',\n",
       " 'CZ-RAJ']"
      ]
     },
     "execution_count": 17,
     "metadata": {},
     "output_type": "execute_result"
    }
   ],
   "source": [
    "icos_ww_dir = os.path.join('data', 'raw', 'icos-ww', 'unzipped')\n",
    "icos_ww_sites = os.listdir(icos_ww_dir)\n",
    "icos_ww_df = icos_df[icos_df['SITE_ID'].isin(icos_ww_sites)].reset_index(drop=True)\n",
    "icos_ww_df.to_csv(os.path.join('data', 'raw', 'icos-ww', 'site_data.csv'), index=False)\n",
    "[s for s in icos_ww_sites if s not in icos_ww_df['SITE_ID'].values]"
   ]
  }
 ],
 "metadata": {
  "kernelspec": {
   "display_name": "scratch",
   "language": "python",
   "name": "python3"
  },
  "language_info": {
   "codemirror_mode": {
    "name": "ipython",
    "version": 3
   },
   "file_extension": ".py",
   "mimetype": "text/x-python",
   "name": "python",
   "nbconvert_exporter": "python",
   "pygments_lexer": "ipython3",
   "version": "3.9.18"
  }
 },
 "nbformat": 4,
 "nbformat_minor": 2
}
