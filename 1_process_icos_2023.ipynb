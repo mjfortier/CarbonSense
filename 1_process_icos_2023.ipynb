{
 "cells": [
  {
   "cell_type": "markdown",
   "metadata": {},
   "source": [
    "# Process ICOS-2023 data\n",
    "- replace sentinel values with NaN\n",
    "- downsample from half-hourly to hourly (if needed for each site)"
   ]
  },
  {
   "cell_type": "code",
   "execution_count": 1,
   "metadata": {},
   "outputs": [],
   "source": [
    "import os\n",
    "import numpy as np\n",
    "import pandas as pd"
   ]
  },
  {
   "cell_type": "code",
   "execution_count": 3,
   "metadata": {},
   "outputs": [],
   "source": [
    "COLS_VA = ['TA_F', 'SW_IN_F', 'LW_IN_F', 'VPD_F', 'PA_F', 'P_F', 'WS_F', 'WD', 'RH', 'USTAR', 'NETRAD', 'PPFD_IN', 'PPFD_DIF', 'PPFD_OUT', 'SW_DIF', 'SW_OUT', 'LW_OUT',\n",
    "        'CO2_F_MDS', 'G_F_MDS', 'LE_F_MDS', 'H_F_MDS', 'NEE_VUT_REF', 'RECO_NT_VUT_REF', 'RECO_DT_VUT_REF', 'GPP_NT_VUT_REF', 'GPP_DT_VUT_REF']\n",
    "COLS_QC = [f'{c}_QC' for c in COLS_VA]\n",
    "COLS_TS = ['TIMESTAMP_START']\n",
    "\n",
    "collection = 'icos-2023'\n",
    "\n",
    "INPUT_DIR = os.path.join('data', 'raw', collection, 'unzipped')\n",
    "OUTPUT_DIR = os.path.join('data', 'intermediate', 'test_int_1', collection)"
   ]
  },
  {
   "cell_type": "code",
   "execution_count": 3,
   "metadata": {},
   "outputs": [],
   "source": [
    "def process_site_dataframe(df, downsample=True):\n",
    "    df = df.replace(-9999.0, np.nan)\n",
    "    for column in COLS_VA + COLS_QC:\n",
    "        if column not in df.columns:\n",
    "            df[column] = np.nan\n",
    "    \n",
    "    df_ts = df[COLS_TS]\n",
    "    df_va = df[COLS_VA]\n",
    "    df_qc = df[COLS_QC]\n",
    "\n",
    "    if downsample:\n",
    "        # Average to hourly data\n",
    "        grouping_key = np.arange(len(df_va)) // 2\n",
    "        df_va = df_va.groupby(grouping_key).mean().reset_index(drop=True)\n",
    "        df_ts = df_ts.iloc[::2,:].reset_index(drop=True)\n",
    "        df_qc = df_qc.iloc[::2,:].reset_index(drop=True)\n",
    "    \n",
    "    # Double precipitation, as this should not be averaged\n",
    "    df_va['P_F'] = df_va['P_F'] * 2.0\n",
    "    df = pd.concat([df_ts, df_va, df_qc], axis=1)\n",
    "    return df"
   ]
  },
  {
   "cell_type": "code",
   "execution_count": 4,
   "metadata": {},
   "outputs": [],
   "source": [
    "data = []\n",
    "for site in os.listdir(INPUT_DIR):\n",
    "    files = os.listdir(os.path.join(INPUT_DIR, site))\n",
    "    fluxnet_compatible_files = [f for f in files if 'FLUXNET_HH_L2' in f and 'VARINFO' not in f]\n",
    "    if len(fluxnet_compatible_files) != 1:\n",
    "        continue\n",
    "    file = fluxnet_compatible_files[0]\n",
    "    data.append((site, os.path.join(INPUT_DIR, site, file), collection, True))"
   ]
  },
  {
   "cell_type": "code",
   "execution_count": null,
   "metadata": {},
   "outputs": [],
   "source": [
    "if not os.path.exists(OUTPUT_DIR):\n",
    "    os.makedirs(OUTPUT_DIR)\n",
    "\n",
    "for site, file, source, downsample in data:\n",
    "    print(f'Processing {file}...')\n",
    "    site_dir = os.path.join(OUTPUT_DIR, site)\n",
    "    if not os.path.exists(site_dir):\n",
    "        os.makedirs(site_dir)\n",
    "    \n",
    "    site_df = pd.read_csv(file)\n",
    "    processed_df = process_site_dataframe(site_df, downsample=downsample)\n",
    "    min_time = processed_df['TIMESTAMP_START'].min()\n",
    "    max_time = processed_df['TIMESTAMP_START'].max()\n",
    "    outfile = os.path.join(site_dir, f'{min_time}_{max_time}_{source}.csv')\n",
    "    processed_df.to_csv(outfile, index=False)"
   ]
  }
 ],
 "metadata": {
  "kernelspec": {
   "display_name": "scratch",
   "language": "python",
   "name": "python3"
  },
  "language_info": {
   "codemirror_mode": {
    "name": "ipython",
    "version": 3
   },
   "file_extension": ".py",
   "mimetype": "text/x-python",
   "name": "python",
   "nbconvert_exporter": "python",
   "pygments_lexer": "ipython3",
   "version": "3.9.18"
  }
 },
 "nbformat": 4,
 "nbformat_minor": 2
}
