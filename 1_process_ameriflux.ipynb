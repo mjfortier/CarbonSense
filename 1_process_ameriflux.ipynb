{
 "cells": [
  {
   "cell_type": "markdown",
   "metadata": {},
   "source": [
    "# Process Ameriflux data\n",
    "- replace sentinel values with NaN\n",
    "- downsample from half-hourly to hourly (if needed for each site)"
   ]
  },
  {
   "cell_type": "code",
   "execution_count": 1,
   "metadata": {},
   "outputs": [],
   "source": [
    "import os\n",
    "import numpy as np\n",
    "import pandas as pd\n",
    "import shutil"
   ]
  },
  {
   "cell_type": "code",
   "execution_count": 2,
   "metadata": {},
   "outputs": [],
   "source": [
    "COLS_VA = ['TA_F', 'SW_IN_F', 'LW_IN_F', 'VPD_F', 'PA_F', 'P_F', 'WS_F', 'WD', 'RH', 'USTAR', 'NETRAD', 'PPFD_IN', 'PPFD_DIF', 'PPFD_OUT', 'SW_DIF', 'SW_OUT', 'LW_OUT',\n",
    "        'CO2_F_MDS', 'G_F_MDS', 'LE_F_MDS', 'H_F_MDS', 'NEE_VUT_REF', 'RECO_NT_VUT_REF', 'RECO_DT_VUT_REF', 'GPP_NT_VUT_REF', 'GPP_DT_VUT_REF']\n",
    "COLS_QC = [f'{c}_QC' for c in COLS_VA]\n",
    "COLS_TS = ['TIMESTAMP_START']\n",
    "\n",
    "collection = 'ameriflux'\n",
    "\n",
    "INPUT_DIR = os.path.join('data', 'raw', collection, 'unzipped')\n",
    "META_FILE = os.path.join('data', 'raw', collection, 'site_data.csv')\n",
    "OUTPUT_DIR = os.path.join('data', 'intermediate', 'test_int_1', collection)"
   ]
  },
  {
   "cell_type": "code",
   "execution_count": 3,
   "metadata": {},
   "outputs": [],
   "source": [
    "def process_site_dataframe(df, downsample=True):\n",
    "    df = df.replace(-9999.0, np.nan)\n",
    "    for column in COLS_VA + COLS_QC:\n",
    "        if column not in df.columns:\n",
    "            df[column] = np.nan\n",
    "    \n",
    "    df_ts = df[COLS_TS]\n",
    "    df_va = df[COLS_VA]\n",
    "    df_qc = df[COLS_QC]\n",
    "\n",
    "    if downsample:\n",
    "        # Average to hourly data\n",
    "        grouping_key = np.arange(len(df_va)) // 2\n",
    "        df_va = df_va.groupby(grouping_key).mean().reset_index(drop=True)\n",
    "        df_ts = df_ts.iloc[::2,:].reset_index(drop=True)\n",
    "        df_qc = df_qc.iloc[::2,:].reset_index(drop=True)\n",
    "    \n",
    "    # Double precipitation, as this should not be averaged\n",
    "    df_va['P_F'] = df_va['P_F'] * 2.0\n",
    "    df = pd.concat([df_ts, df_va, df_qc], axis=1)\n",
    "    return df"
   ]
  },
  {
   "cell_type": "code",
   "execution_count": 4,
   "metadata": {},
   "outputs": [],
   "source": [
    "data = []\n",
    "for site in os.listdir(INPUT_DIR):\n",
    "    files = os.listdir(os.path.join(INPUT_DIR, site))\n",
    "    fluxnet_compatible_files = [f for f in files if 'FLUXNET_SUBSET_HH' in f  and 'VARINFO' not in f]\n",
    "    if len(fluxnet_compatible_files) == 1:\n",
    "        data.append((site, os.path.join(INPUT_DIR, site, fluxnet_compatible_files[0]), collection, True))\n",
    "    else:\n",
    "        fluxnet_compatible_files = [f for f in files if 'FLUXNET_SUBSET_HR' in f  and 'VARINFO' not in f]\n",
    "        if len(fluxnet_compatible_files) != 1:\n",
    "            print(f'No valid file found for {site}')\n",
    "            continue\n",
    "        data.append((site, os.path.join(INPUT_DIR, site, fluxnet_compatible_files[0]), collection, False))"
   ]
  },
  {
   "cell_type": "code",
   "execution_count": 5,
   "metadata": {},
   "outputs": [
    {
     "name": "stdout",
     "output_type": "stream",
     "text": [
      "Processing data/raw/ameriflux/unzipped/US-ORv/AMF_US-ORv_FLUXNET_SUBSET_HH_2011-2016_3-5.csv...\n",
      "Processing data/raw/ameriflux/unzipped/US-ARb/AMF_US-ARb_FLUXNET_SUBSET_HH_2005-2006_3-5.csv...\n",
      "Processing data/raw/ameriflux/unzipped/US-Me2/AMF_US-Me2_FLUXNET_SUBSET_HH_2002-2020_3-5.csv...\n",
      "Processing data/raw/ameriflux/unzipped/US-xHE/AMF_US-xHE_FLUXNET_SUBSET_HH_2017-2021_3-5.csv...\n",
      "Processing data/raw/ameriflux/unzipped/US-BZB/AMF_US-BZB_FLUXNET_SUBSET_HH_2011-2021_3-5.csv...\n",
      "Processing data/raw/ameriflux/unzipped/US-CS1/AMF_US-CS1_FLUXNET_SUBSET_HH_2018-2019_3-5.csv...\n",
      "Processing data/raw/ameriflux/unzipped/US-xUN/AMF_US-xUN_FLUXNET_SUBSET_HH_2017-2021_3-5.csv...\n",
      "Processing data/raw/ameriflux/unzipped/US-SRS/AMF_US-SRS_FLUXNET_SUBSET_HH_2011-2018_3-5.csv...\n",
      "Processing data/raw/ameriflux/unzipped/US-Vcp/AMF_US-Vcp_FLUXNET_SUBSET_HH_2007-2021_3-5.csv...\n",
      "Processing data/raw/ameriflux/unzipped/US-KS1/AMF_US-KS1_FLUXNET_SUBSET_HH_2002-2003_3-5.csv...\n",
      "Processing data/raw/ameriflux/unzipped/US-Rwe/AMF_US-Rwe_FLUXNET_SUBSET_HH_2003-2007_3-5.csv...\n",
      "Processing data/raw/ameriflux/unzipped/US-Me3/AMF_US-Me3_FLUXNET_SUBSET_HH_2004-2009_3-5.csv...\n",
      "Processing data/raw/ameriflux/unzipped/US-BZS/AMF_US-BZS_FLUXNET_SUBSET_HH_2010-2021_3-5.csv...\n",
      "Processing data/raw/ameriflux/unzipped/US-xTA/AMF_US-xTA_FLUXNET_SUBSET_HH_2017-2021_3-5.csv...\n",
      "Processing data/raw/ameriflux/unzipped/US-Ho2/AMF_US-Ho2_FLUXNET_SUBSET_HH_1999-2020_3-5.csv...\n",
      "Processing data/raw/ameriflux/unzipped/US-MOz/AMF_US-MOz_FLUXNET_SUBSET_HH_2004-2019_3-5.csv...\n",
      "Processing data/raw/ameriflux/unzipped/CA-MA3/AMF_CA-MA3_FLUXNET_SUBSET_HH_2009-2011_3-5.csv...\n",
      "Processing data/raw/ameriflux/unzipped/US-xSJ/AMF_US-xSJ_FLUXNET_SUBSET_HH_2019-2021_3-5.csv...\n",
      "Processing data/raw/ameriflux/unzipped/US-NC3/AMF_US-NC3_FLUXNET_SUBSET_HH_2013-2021_3-5.csv...\n",
      "Processing data/raw/ameriflux/unzipped/US-Me6/AMF_US-Me6_FLUXNET_SUBSET_HH_2010-2021_3-5.csv...\n",
      "Processing data/raw/ameriflux/unzipped/US-xMB/AMF_US-xMB_FLUXNET_SUBSET_HH_2017-2021_3-5.csv...\n",
      "Processing data/raw/ameriflux/unzipped/US-Wi1/AMF_US-Wi1_FLUXNET_SUBSET_HH_2003-2003_3-5.csv...\n",
      "Processing data/raw/ameriflux/unzipped/US-SRC/AMF_US-SRC_FLUXNET_SUBSET_HH_2008-2014_3-5.csv...\n",
      "Processing data/raw/ameriflux/unzipped/US-WPT/AMF_US-WPT_FLUXNET_SUBSET_HH_2011-2013_3-5.csv...\n",
      "Processing data/raw/ameriflux/unzipped/US-Rws/AMF_US-Rws_FLUXNET_SUBSET_HH_2014-2020_3-5.csv...\n",
      "Processing data/raw/ameriflux/unzipped/US-xDJ/AMF_US-xDJ_FLUXNET_SUBSET_HH_2019-2021_3-5.csv...\n",
      "Processing data/raw/ameriflux/unzipped/US-Snf/AMF_US-Snf_FLUXNET_SUBSET_HH_2018-2020_3-5.csv...\n",
      "Processing data/raw/ameriflux/unzipped/US-BRG/AMF_US-BRG_FLUXNET_SUBSET_HH_2016-2020_3-5.csv...\n",
      "Processing data/raw/ameriflux/unzipped/CA-LP1/AMF_CA-LP1_FLUXNET_SUBSET_HH_2007-2020_3-5.csv...\n",
      "Processing data/raw/ameriflux/unzipped/US-xNQ/AMF_US-xNQ_FLUXNET_SUBSET_HH_2017-2021_3-5.csv...\n",
      "Processing data/raw/ameriflux/unzipped/US-RGB/AMF_US-RGB_FLUXNET_SUBSET_HH_2021-2021_3-5.csv...\n",
      "Processing data/raw/ameriflux/unzipped/US-xDL/AMF_US-xDL_FLUXNET_SUBSET_HH_2017-2021_3-5.csv...\n",
      "Processing data/raw/ameriflux/unzipped/CA-Cbo/AMF_CA-Cbo_FLUXNET_SUBSET_HH_1994-2020_3-5.csv...\n",
      "Processing data/raw/ameriflux/unzipped/US-xCL/AMF_US-xCL_FLUXNET_SUBSET_HH_2017-2021_3-5.csv...\n",
      "Processing data/raw/ameriflux/unzipped/US-NC1/AMF_US-NC1_FLUXNET_SUBSET_HH_2005-2012_3-5.csv...\n",
      "Processing data/raw/ameriflux/unzipped/US-NGC/AMF_US-NGC_FLUXNET_SUBSET_HH_2017-2019_3-5.csv...\n",
      "Processing data/raw/ameriflux/unzipped/US-Wi3/AMF_US-Wi3_FLUXNET_SUBSET_HH_2002-2004_3-5.csv...\n",
      "Processing data/raw/ameriflux/unzipped/CA-ARF/AMF_CA-ARF_FLUXNET_SUBSET_HH_2011-2015_3-5.csv...\n",
      "Processing data/raw/ameriflux/unzipped/US-ARc/AMF_US-ARc_FLUXNET_SUBSET_HH_2005-2006_3-5.csv...\n",
      "Processing data/raw/ameriflux/unzipped/US-Ro5/AMF_US-Ro5_FLUXNET_SUBSET_HH_2017-2020_3-5.csv...\n",
      "Processing data/raw/ameriflux/unzipped/US-NC4/AMF_US-NC4_FLUXNET_SUBSET_HH_2009-2021_3-5.csv...\n",
      "Processing data/raw/ameriflux/unzipped/US-xSC/AMF_US-xSC_FLUXNET_SUBSET_HH_2019-2021_3-5.csv...\n",
      "Processing data/raw/ameriflux/unzipped/US-UM3/AMF_US-UM3_FLUXNET_SUBSET_HH_2013-2014_3-5.csv...\n",
      "Processing data/raw/ameriflux/unzipped/US-KS3/AMF_US-KS3_FLUXNET_SUBSET_HH_2018-2018_3-5.csv...\n",
      "Processing data/raw/ameriflux/unzipped/US-Rls/AMF_US-Rls_FLUXNET_SUBSET_HH_2014-2021_3-5.csv...\n",
      "Processing data/raw/ameriflux/unzipped/CA-Qfo/AMF_CA-Qfo_FLUXNET_SUBSET_HH_2003-2010_3-5.csv...\n",
      "Processing data/raw/ameriflux/unzipped/US-KS2/AMF_US-KS2_FLUXNET_SUBSET_HH_1999-2006_3-5.csv...\n",
      "Processing data/raw/ameriflux/unzipped/US-xDC/AMF_US-xDC_FLUXNET_SUBSET_HH_2017-2021_3-5.csv...\n",
      "Processing data/raw/ameriflux/unzipped/US-ALQ/AMF_US-ALQ_FLUXNET_SUBSET_HH_2015-2021_3-5.csv...\n",
      "Processing data/raw/ameriflux/unzipped/US-Oho/AMF_US-Oho_FLUXNET_SUBSET_HH_2004-2013_3-5.csv...\n",
      "Processing data/raw/ameriflux/unzipped/US-xML/AMF_US-xML_FLUXNET_SUBSET_HH_2017-2021_3-5.csv...\n",
      "Processing data/raw/ameriflux/unzipped/CA-NS7/AMF_CA-NS7_FLUXNET_SUBSET_HH_2001-2005_3-5.csv...\n",
      "Processing data/raw/ameriflux/unzipped/CA-TP1/AMF_CA-TP1_FLUXNET_SUBSET_HH_2002-2017_3-5.csv...\n",
      "Processing data/raw/ameriflux/unzipped/CA-CF1/AMF_CA-CF1_FLUXNET_SUBSET_HH_2007-2008_3-5.csv...\n",
      "Processing data/raw/ameriflux/unzipped/MX-Tes/AMF_MX-Tes_FLUXNET_SUBSET_HH_2004-2009_3-5.csv...\n",
      "Processing data/raw/ameriflux/unzipped/US-HB3/AMF_US-HB3_FLUXNET_SUBSET_HH_2019-2021_3-5.csv...\n",
      "Processing data/raw/ameriflux/unzipped/US-BZo/AMF_US-BZo_FLUXNET_SUBSET_HH_2018-2021_3-5.csv...\n",
      "Processing data/raw/ameriflux/unzipped/US-Jo1/AMF_US-Jo1_FLUXNET_SUBSET_HH_2010-2020_3-5.csv...\n",
      "Processing data/raw/ameriflux/unzipped/US-Wi4/AMF_US-Wi4_FLUXNET_SUBSET_HH_2002-2005_3-5.csv...\n",
      "Processing data/raw/ameriflux/unzipped/US-Ro2/AMF_US-Ro2_FLUXNET_SUBSET_HH_2008-2016_3-5.csv...\n",
      "Processing data/raw/ameriflux/unzipped/US-Ro6/AMF_US-Ro6_FLUXNET_SUBSET_HH_2017-2021_3-5.csv...\n",
      "Processing data/raw/ameriflux/unzipped/PE-QFR/AMF_PE-QFR_FLUXNET_SUBSET_HH_2018-2019_3-5.csv...\n",
      "Processing data/raw/ameriflux/unzipped/US-xWD/AMF_US-xWD_FLUXNET_SUBSET_HH_2019-2021_3-5.csv...\n",
      "Processing data/raw/ameriflux/unzipped/US-Tw3/AMF_US-Tw3_FLUXNET_SUBSET_HH_2013-2018_3-5.csv...\n",
      "Processing data/raw/ameriflux/unzipped/US-GLE/AMF_US-GLE_FLUXNET_SUBSET_HH_2005-2020_3-5.csv...\n",
      "Processing data/raw/ameriflux/unzipped/US-Fuf/AMF_US-Fuf_FLUXNET_SUBSET_HH_2005-2010_3-5.csv...\n",
      "Processing data/raw/ameriflux/unzipped/BR-CST/AMF_BR-CST_FLUXNET_SUBSET_HH_2014-2015_3-5.csv...\n",
      "Processing data/raw/ameriflux/unzipped/US-xBN/AMF_US-xBN_FLUXNET_SUBSET_HH_2019-2021_3-5.csv...\n",
      "Processing data/raw/ameriflux/unzipped/US-AR2/AMF_US-AR2_FLUXNET_SUBSET_HH_2009-2012_3-5.csv...\n",
      "Processing data/raw/ameriflux/unzipped/US-MMS/AMF_US-MMS_FLUXNET_SUBSET_HR_1999-2020_3-5.csv...\n"
     ]
    },
    {
     "name": "stderr",
     "output_type": "stream",
     "text": [
      "/tmp/ipykernel_3165/1648976969.py:19: SettingWithCopyWarning: \n",
      "A value is trying to be set on a copy of a slice from a DataFrame.\n",
      "Try using .loc[row_indexer,col_indexer] = value instead\n",
      "\n",
      "See the caveats in the documentation: https://pandas.pydata.org/pandas-docs/stable/user_guide/indexing.html#returning-a-view-versus-a-copy\n",
      "  df_va['P_F'] = df_va['P_F'] * 2.0\n"
     ]
    },
    {
     "name": "stdout",
     "output_type": "stream",
     "text": [
      "Processing data/raw/ameriflux/unzipped/US-Kon/AMF_US-Kon_FLUXNET_SUBSET_HH_2004-2019_3-5.csv...\n",
      "Processing data/raw/ameriflux/unzipped/US-UMd/AMF_US-UMd_FLUXNET_SUBSET_HH_2007-2021_3-5.csv...\n",
      "Processing data/raw/ameriflux/unzipped/US-Sne/AMF_US-Sne_FLUXNET_SUBSET_HH_2016-2020_3-5.csv...\n",
      "Processing data/raw/ameriflux/unzipped/US-RGA/AMF_US-RGA_FLUXNET_SUBSET_HH_2021-2021_3-5.csv...\n",
      "Processing data/raw/ameriflux/unzipped/US-Ton/AMF_US-Ton_FLUXNET_SUBSET_HH_2001-2021_3-5.csv...\n",
      "Processing data/raw/ameriflux/unzipped/US-Mo2/AMF_US-Mo2_FLUXNET_SUBSET_HH_2018-2021_3-5.csv...\n",
      "Processing data/raw/ameriflux/unzipped/US-Rwf/AMF_US-Rwf_FLUXNET_SUBSET_HH_2014-2020_3-5.csv...\n",
      "Processing data/raw/ameriflux/unzipped/CA-NS4/AMF_CA-NS4_FLUXNET_SUBSET_HH_2001-2005_3-5.csv...\n",
      "Processing data/raw/ameriflux/unzipped/US-EML/AMF_US-EML_FLUXNET_SUBSET_HH_2008-2020_3-5.csv...\n",
      "Processing data/raw/ameriflux/unzipped/US-Syv/AMF_US-Syv_FLUXNET_SUBSET_HH_2001-2021_3-5.csv...\n",
      "Processing data/raw/ameriflux/unzipped/CA-ARB/AMF_CA-ARB_FLUXNET_SUBSET_HH_2011-2015_3-5.csv...\n",
      "Processing data/raw/ameriflux/unzipped/US-BZF/AMF_US-BZF_FLUXNET_SUBSET_HH_2011-2021_3-5.csv...\n",
      "Processing data/raw/ameriflux/unzipped/US-Mo1/AMF_US-Mo1_FLUXNET_SUBSET_HH_2015-2021_3-5.csv...\n",
      "Processing data/raw/ameriflux/unzipped/US-xGR/AMF_US-xGR_FLUXNET_SUBSET_HH_2017-2021_3-5.csv...\n",
      "Processing data/raw/ameriflux/unzipped/US-OWC/AMF_US-OWC_FLUXNET_SUBSET_HH_2015-2016_3-5.csv...\n",
      "Processing data/raw/ameriflux/unzipped/US-Bi2/AMF_US-Bi2_FLUXNET_SUBSET_HH_2017-2021_3-5.csv...\n",
      "Processing data/raw/ameriflux/unzipped/CA-Gro/AMF_CA-Gro_FLUXNET_SUBSET_HH_2003-2014_3-5.csv...\n",
      "Processing data/raw/ameriflux/unzipped/CA-SF2/AMF_CA-SF2_FLUXNET_SUBSET_HH_2001-2006_3-5.csv...\n",
      "Processing data/raw/ameriflux/unzipped/US-DS3/AMF_US-DS3_FLUXNET_SUBSET_HH_2021-2021_3-5.csv...\n",
      "Processing data/raw/ameriflux/unzipped/US-Mo3/AMF_US-Mo3_FLUXNET_SUBSET_HH_2016-2021_3-5.csv...\n",
      "Processing data/raw/ameriflux/unzipped/US-Lin/AMF_US-Lin_FLUXNET_SUBSET_HH_2009-2010_3-5.csv...\n",
      "Processing data/raw/ameriflux/unzipped/US-xSE/AMF_US-xSE_FLUXNET_SUBSET_HH_2017-2021_3-5.csv...\n",
      "Processing data/raw/ameriflux/unzipped/US-Bi1/AMF_US-Bi1_FLUXNET_SUBSET_HH_2016-2021_3-5.csv...\n",
      "Processing data/raw/ameriflux/unzipped/US-CS4/AMF_US-CS4_FLUXNET_SUBSET_HH_2020-2021_3-5.csv...\n",
      "Processing data/raw/ameriflux/unzipped/US-xSB/AMF_US-xSB_FLUXNET_SUBSET_HH_2017-2021_3-5.csv...\n",
      "Processing data/raw/ameriflux/unzipped/US-LS2/AMF_US-LS2_FLUXNET_SUBSET_HH_2002-2007_3-5.csv...\n",
      "Processing data/raw/ameriflux/unzipped/US-xSR/AMF_US-xSR_FLUXNET_SUBSET_HH_2017-2021_3-5.csv...\n",
      "Processing data/raw/ameriflux/unzipped/CA-TPD/AMF_CA-TPD_FLUXNET_SUBSET_HH_2012-2017_3-5.csv...\n",
      "Processing data/raw/ameriflux/unzipped/US-xSL/AMF_US-xSL_FLUXNET_SUBSET_HH_2019-2021_3-5.csv...\n",
      "Processing data/raw/ameriflux/unzipped/US-Wi0/AMF_US-Wi0_FLUXNET_SUBSET_HH_2002-2002_3-5.csv...\n",
      "Processing data/raw/ameriflux/unzipped/US-ICs/AMF_US-ICs_FLUXNET_SUBSET_HH_2007-2020_3-5.csv...\n",
      "Processing data/raw/ameriflux/unzipped/US-CF1/AMF_US-CF1_FLUXNET_SUBSET_HH_2017-2020_3-5.csv...\n",
      "Processing data/raw/ameriflux/unzipped/CA-MA2/AMF_CA-MA2_FLUXNET_SUBSET_HH_2009-2011_3-5.csv...\n",
      "Processing data/raw/ameriflux/unzipped/US-CF2/AMF_US-CF2_FLUXNET_SUBSET_HH_2017-2020_3-5.csv...\n",
      "Processing data/raw/ameriflux/unzipped/US-Vcm/AMF_US-Vcm_FLUXNET_SUBSET_HH_2007-2021_3-5.csv...\n",
      "Processing data/raw/ameriflux/unzipped/US-xUK/AMF_US-xUK_FLUXNET_SUBSET_HH_2017-2021_3-5.csv...\n",
      "Processing data/raw/ameriflux/unzipped/CA-NS2/AMF_CA-NS2_FLUXNET_SUBSET_HH_2001-2005_3-5.csv...\n",
      "Processing data/raw/ameriflux/unzipped/US-Jo2/AMF_US-Jo2_FLUXNET_SUBSET_HH_2010-2020_3-5.csv...\n",
      "Processing data/raw/ameriflux/unzipped/US-Srr/AMF_US-Srr_FLUXNET_SUBSET_HH_2014-2017_3-5.csv...\n",
      "Processing data/raw/ameriflux/unzipped/US-xAE/AMF_US-xAE_FLUXNET_SUBSET_HH_2017-2021_3-5.csv...\n",
      "Processing data/raw/ameriflux/unzipped/US-CS2/AMF_US-CS2_FLUXNET_SUBSET_HH_2018-2021_3-5.csv...\n",
      "Processing data/raw/ameriflux/unzipped/CA-TP3/AMF_CA-TP3_FLUXNET_SUBSET_HH_2002-2017_3-5.csv...\n",
      "Processing data/raw/ameriflux/unzipped/US-xCP/AMF_US-xCP_FLUXNET_SUBSET_HH_2016-2021_3-5.csv...\n",
      "Processing data/raw/ameriflux/unzipped/US-AR1/AMF_US-AR1_FLUXNET_SUBSET_HH_2009-2012_3-5.csv...\n",
      "Processing data/raw/ameriflux/unzipped/US-Var/AMF_US-Var_FLUXNET_SUBSET_HH_2000-2021_3-5.csv...\n",
      "Processing data/raw/ameriflux/unzipped/US-Ne1/AMF_US-Ne1_FLUXNET_SUBSET_HR_2001-2020_3-5.csv...\n"
     ]
    },
    {
     "name": "stderr",
     "output_type": "stream",
     "text": [
      "/tmp/ipykernel_3165/1648976969.py:19: SettingWithCopyWarning: \n",
      "A value is trying to be set on a copy of a slice from a DataFrame.\n",
      "Try using .loc[row_indexer,col_indexer] = value instead\n",
      "\n",
      "See the caveats in the documentation: https://pandas.pydata.org/pandas-docs/stable/user_guide/indexing.html#returning-a-view-versus-a-copy\n",
      "  df_va['P_F'] = df_va['P_F'] * 2.0\n"
     ]
    },
    {
     "name": "stdout",
     "output_type": "stream",
     "text": [
      "Processing data/raw/ameriflux/unzipped/US-ONA/AMF_US-ONA_FLUXNET_SUBSET_HH_2015-2020_3-5.csv...\n",
      "Processing data/raw/ameriflux/unzipped/CA-SF1/AMF_CA-SF1_FLUXNET_SUBSET_HH_2003-2006_3-5.csv...\n",
      "Processing data/raw/ameriflux/unzipped/US-ICt/AMF_US-ICt_FLUXNET_SUBSET_HH_2007-2021_3-5.csv...\n",
      "Processing data/raw/ameriflux/unzipped/CA-NS3/AMF_CA-NS3_FLUXNET_SUBSET_HH_2001-2005_3-5.csv...\n",
      "Processing data/raw/ameriflux/unzipped/US-HB2/AMF_US-HB2_FLUXNET_SUBSET_HH_2019-2019_3-5.csv...\n",
      "Processing data/raw/ameriflux/unzipped/US-CF3/AMF_US-CF3_FLUXNET_SUBSET_HH_2017-2021_3-5.csv...\n",
      "Processing data/raw/ameriflux/unzipped/US-Whs/AMF_US-Whs_FLUXNET_SUBSET_HH_2007-2020_3-5.csv...\n",
      "Processing data/raw/ameriflux/unzipped/CA-DBB/AMF_CA-DBB_FLUXNET_SUBSET_HH_2014-2020_3-5.csv...\n",
      "Processing data/raw/ameriflux/unzipped/US-Wi8/AMF_US-Wi8_FLUXNET_SUBSET_HH_2002-2002_3-5.csv...\n",
      "Processing data/raw/ameriflux/unzipped/US-NGB/AMF_US-NGB_FLUXNET_SUBSET_HH_2012-2019_3-5.csv...\n",
      "Processing data/raw/ameriflux/unzipped/US-Me1/AMF_US-Me1_FLUXNET_SUBSET_HH_2004-2005_3-5.csv...\n",
      "Processing data/raw/ameriflux/unzipped/US-StJ/AMF_US-StJ_FLUXNET_SUBSET_HH_2015-2017_3-5.csv...\n",
      "Processing data/raw/ameriflux/unzipped/CA-NS6/AMF_CA-NS6_FLUXNET_SUBSET_HH_2001-2005_3-5.csv...\n",
      "Processing data/raw/ameriflux/unzipped/US-xNG/AMF_US-xNG_FLUXNET_SUBSET_HH_2017-2021_3-5.csv...\n",
      "Processing data/raw/ameriflux/unzipped/US-CS3/AMF_US-CS3_FLUXNET_SUBSET_HH_2019-2020_3-5.csv...\n",
      "Processing data/raw/ameriflux/unzipped/US-HWB/AMF_US-HWB_FLUXNET_SUBSET_HH_2015-2018_3-5.csv...\n",
      "Processing data/raw/ameriflux/unzipped/US-SRG/AMF_US-SRG_FLUXNET_SUBSET_HH_2008-2021_3-5.csv...\n",
      "Processing data/raw/ameriflux/unzipped/CA-Ca1/AMF_CA-Ca1_FLUXNET_SUBSET_HH_1996-2010_3-5.csv...\n",
      "Processing data/raw/ameriflux/unzipped/US-Wi6/AMF_US-Wi6_FLUXNET_SUBSET_HH_2002-2003_3-5.csv...\n",
      "Processing data/raw/ameriflux/unzipped/US-ARM/AMF_US-ARM_FLUXNET_SUBSET_HH_2003-2020_3-5.csv...\n",
      "Processing data/raw/ameriflux/unzipped/US-Fcr/AMF_US-Fcr_FLUXNET_SUBSET_HH_2011-2014_3-5.csv...\n",
      "Processing data/raw/ameriflux/unzipped/US-Fmf/AMF_US-Fmf_FLUXNET_SUBSET_HH_2005-2010_3-5.csv...\n",
      "Processing data/raw/ameriflux/unzipped/US-A32/AMF_US-A32_FLUXNET_SUBSET_HH_2015-2017_3-5.csv...\n",
      "Processing data/raw/ameriflux/unzipped/CA-Ca2/AMF_CA-Ca2_FLUXNET_SUBSET_HH_1999-2010_3-5.csv...\n",
      "Processing data/raw/ameriflux/unzipped/US-Seg/AMF_US-Seg_FLUXNET_SUBSET_HH_2007-2021_3-5.csv...\n",
      "Processing data/raw/ameriflux/unzipped/US-DFC/AMF_US-DFC_FLUXNET_SUBSET_HH_2018-2021_3-5.csv...\n",
      "Processing data/raw/ameriflux/unzipped/US-Tw2/AMF_US-Tw2_FLUXNET_SUBSET_HH_2012-2013_3-5.csv...\n",
      "Processing data/raw/ameriflux/unzipped/US-Pnp/AMF_US-Pnp_FLUXNET_SUBSET_HH_2016-2021_3-5.csv...\n",
      "Processing data/raw/ameriflux/unzipped/US-xKA/AMF_US-xKA_FLUXNET_SUBSET_HH_2017-2021_3-5.csv...\n",
      "Processing data/raw/ameriflux/unzipped/US-KFS/AMF_US-KFS_FLUXNET_SUBSET_HH_2007-2019_3-5.csv...\n",
      "Processing data/raw/ameriflux/unzipped/US-Bar/AMF_US-Bar_FLUXNET_SUBSET_HH_2004-2021_3-5.csv...\n",
      "Processing data/raw/ameriflux/unzipped/US-CRT/AMF_US-CRT_FLUXNET_SUBSET_HH_2011-2013_3-5.csv...\n",
      "Processing data/raw/ameriflux/unzipped/US-NR1/AMF_US-NR1_FLUXNET_SUBSET_HH_1998-2016_3-5.csv...\n",
      "Processing data/raw/ameriflux/unzipped/US-CF4/AMF_US-CF4_FLUXNET_SUBSET_HH_2017-2021_3-5.csv...\n",
      "Processing data/raw/ameriflux/unzipped/US-Tw1/AMF_US-Tw1_FLUXNET_SUBSET_HH_2011-2020_3-5.csv...\n",
      "Processing data/raw/ameriflux/unzipped/US-Hn2/AMF_US-Hn2_FLUXNET_SUBSET_HH_2015-2018_3-5.csv...\n",
      "Processing data/raw/ameriflux/unzipped/US-xST/AMF_US-xST_FLUXNET_SUBSET_HH_2017-2021_3-5.csv...\n",
      "Processing data/raw/ameriflux/unzipped/US-RGo/AMF_US-RGo_FLUXNET_SUBSET_HH_2021-2021_3-5.csv...\n",
      "Processing data/raw/ameriflux/unzipped/CA-NS5/AMF_CA-NS5_FLUXNET_SUBSET_HH_2001-2005_3-5.csv...\n",
      "Processing data/raw/ameriflux/unzipped/US-Rms/AMF_US-Rms_FLUXNET_SUBSET_HH_2014-2020_3-5.csv...\n",
      "Processing data/raw/ameriflux/unzipped/CA-ER1/AMF_CA-ER1_FLUXNET_SUBSET_HH_2015-2020_3-5.csv...\n",
      "Processing data/raw/ameriflux/unzipped/CA-DB2/AMF_CA-DB2_FLUXNET_SUBSET_HH_2019-2020_3-5.csv...\n",
      "Processing data/raw/ameriflux/unzipped/US-A74/AMF_US-A74_FLUXNET_SUBSET_HH_2016-2017_3-5.csv...\n",
      "Processing data/raw/ameriflux/unzipped/US-xBL/AMF_US-xBL_FLUXNET_SUBSET_HH_2019-2021_3-5.csv...\n",
      "Processing data/raw/ameriflux/unzipped/US-Ro1/AMF_US-Ro1_FLUXNET_SUBSET_HH_2004-2016_3-5.csv...\n",
      "Processing data/raw/ameriflux/unzipped/US-Tw4/AMF_US-Tw4_FLUXNET_SUBSET_HH_2013-2021_3-5.csv...\n",
      "Processing data/raw/ameriflux/unzipped/AR-TF1/AMF_AR-TF1_FLUXNET_SUBSET_HH_2016-2018_3-5.csv...\n",
      "Processing data/raw/ameriflux/unzipped/US-ICh/AMF_US-ICh_FLUXNET_SUBSET_HH_2007-2021_3-5.csv...\n",
      "Processing data/raw/ameriflux/unzipped/US-xDS/AMF_US-xDS_FLUXNET_SUBSET_HH_2017-2021_3-5.csv...\n",
      "Processing data/raw/ameriflux/unzipped/US-xHA/AMF_US-xHA_FLUXNET_SUBSET_HH_2017-2021_3-5.csv...\n",
      "Processing data/raw/ameriflux/unzipped/BR-Npw/AMF_BR-Npw_FLUXNET_SUBSET_HH_2013-2017_3-5.csv...\n",
      "Processing data/raw/ameriflux/unzipped/US-Wi5/AMF_US-Wi5_FLUXNET_SUBSET_HH_2004-2004_3-5.csv...\n",
      "Processing data/raw/ameriflux/unzipped/US-xKZ/AMF_US-xKZ_FLUXNET_SUBSET_HH_2017-2021_3-5.csv...\n",
      "Processing data/raw/ameriflux/unzipped/US-Tw5/AMF_US-Tw5_FLUXNET_SUBSET_HH_2018-2019_3-5.csv...\n",
      "Processing data/raw/ameriflux/unzipped/US-Ha1/AMF_US-Ha1_FLUXNET_SUBSET_HR_1991-2020_3-5.csv...\n"
     ]
    },
    {
     "name": "stderr",
     "output_type": "stream",
     "text": [
      "/tmp/ipykernel_3165/1648976969.py:19: SettingWithCopyWarning: \n",
      "A value is trying to be set on a copy of a slice from a DataFrame.\n",
      "Try using .loc[row_indexer,col_indexer] = value instead\n",
      "\n",
      "See the caveats in the documentation: https://pandas.pydata.org/pandas-docs/stable/user_guide/indexing.html#returning-a-view-versus-a-copy\n",
      "  df_va['P_F'] = df_va['P_F'] * 2.0\n"
     ]
    },
    {
     "name": "stdout",
     "output_type": "stream",
     "text": [
      "Processing data/raw/ameriflux/unzipped/US-xYE/AMF_US-xYE_FLUXNET_SUBSET_HH_2018-2021_3-5.csv...\n",
      "Processing data/raw/ameriflux/unzipped/US-HB1/AMF_US-HB1_FLUXNET_SUBSET_HH_2019-2019_3-5.csv...\n",
      "Processing data/raw/ameriflux/unzipped/US-UMB/AMF_US-UMB_FLUXNET_SUBSET_HH_2007-2021_3-5.csv...\n",
      "Processing data/raw/ameriflux/unzipped/US-Wjs/AMF_US-Wjs_FLUXNET_SUBSET_HH_2007-2021_3-5.csv...\n",
      "Processing data/raw/ameriflux/unzipped/US-Ro4/AMF_US-Ro4_FLUXNET_SUBSET_HH_2014-2021_3-5.csv...\n",
      "Processing data/raw/ameriflux/unzipped/US-Hn3/AMF_US-Hn3_FLUXNET_SUBSET_HH_2017-2018_3-5.csv...\n",
      "Processing data/raw/ameriflux/unzipped/US-xBA/AMF_US-xBA_FLUXNET_SUBSET_HH_2019-2021_3-5.csv...\n",
      "Processing data/raw/ameriflux/unzipped/CA-MA1/AMF_CA-MA1_FLUXNET_SUBSET_HH_2009-2011_3-5.csv...\n",
      "Processing data/raw/ameriflux/unzipped/US-Wi9/AMF_US-Wi9_FLUXNET_SUBSET_HH_2004-2005_3-5.csv...\n",
      "Processing data/raw/ameriflux/unzipped/US-xBR/AMF_US-xBR_FLUXNET_SUBSET_HH_2017-2021_3-5.csv...\n",
      "Processing data/raw/ameriflux/unzipped/US-xJE/AMF_US-xJE_FLUXNET_SUBSET_HH_2017-2021_3-5.csv...\n",
      "Processing data/raw/ameriflux/unzipped/US-xJR/AMF_US-xJR_FLUXNET_SUBSET_HH_2019-2021_3-5.csv...\n",
      "Processing data/raw/ameriflux/unzipped/US-Ses/AMF_US-Ses_FLUXNET_SUBSET_HH_2007-2021_3-5.csv...\n",
      "Processing data/raw/ameriflux/unzipped/US-xAB/AMF_US-xAB_FLUXNET_SUBSET_HH_2019-2021_3-5.csv...\n",
      "Processing data/raw/ameriflux/unzipped/US-Myb/AMF_US-Myb_FLUXNET_SUBSET_HH_2010-2021_3-5.csv...\n",
      "Processing data/raw/ameriflux/unzipped/CA-NS1/AMF_CA-NS1_FLUXNET_SUBSET_HH_2001-2005_3-5.csv...\n",
      "Processing data/raw/ameriflux/unzipped/US-Wkg/AMF_US-Wkg_FLUXNET_SUBSET_HH_2004-2021_3-5.csv...\n",
      "Processing data/raw/ameriflux/unzipped/US-Cop/AMF_US-Cop_FLUXNET_SUBSET_HR_2001-2007_3-5.csv...\n"
     ]
    },
    {
     "name": "stderr",
     "output_type": "stream",
     "text": [
      "/tmp/ipykernel_3165/1648976969.py:19: SettingWithCopyWarning: \n",
      "A value is trying to be set on a copy of a slice from a DataFrame.\n",
      "Try using .loc[row_indexer,col_indexer] = value instead\n",
      "\n",
      "See the caveats in the documentation: https://pandas.pydata.org/pandas-docs/stable/user_guide/indexing.html#returning-a-view-versus-a-copy\n",
      "  df_va['P_F'] = df_va['P_F'] * 2.0\n"
     ]
    },
    {
     "name": "stdout",
     "output_type": "stream",
     "text": [
      "Processing data/raw/ameriflux/unzipped/US-EDN/AMF_US-EDN_FLUXNET_SUBSET_HH_2018-2019_3-5.csv...\n",
      "Processing data/raw/ameriflux/unzipped/US-xTR/AMF_US-xTR_FLUXNET_SUBSET_HH_2017-2021_3-5.csv...\n",
      "Processing data/raw/ameriflux/unzipped/US-Wi7/AMF_US-Wi7_FLUXNET_SUBSET_HH_2005-2005_3-5.csv...\n",
      "Processing data/raw/ameriflux/unzipped/US-xRM/AMF_US-xRM_FLUXNET_SUBSET_HH_2017-2021_3-5.csv...\n",
      "Processing data/raw/ameriflux/unzipped/US-Rpf/AMF_US-Rpf_FLUXNET_SUBSET_HH_2008-2021_3-5.csv...\n",
      "Processing data/raw/ameriflux/unzipped/US-Mpj/AMF_US-Mpj_FLUXNET_SUBSET_HH_2008-2020_3-5.csv...\n",
      "Processing data/raw/ameriflux/unzipped/US-KLS/AMF_US-KLS_FLUXNET_SUBSET_HH_2012-2019_3-5.csv...\n"
     ]
    }
   ],
   "source": [
    "if not os.path.exists(OUTPUT_DIR):\n",
    "    os.makedirs(OUTPUT_DIR)\n",
    "\n",
    "for site, file, source, downsample in data:\n",
    "    print(f'Processing {file}...')\n",
    "    site_dir = os.path.join(OUTPUT_DIR, site)\n",
    "    if not os.path.exists(site_dir):\n",
    "        os.makedirs(site_dir)\n",
    "    \n",
    "    site_df = pd.read_csv(file)\n",
    "    processed_df = process_site_dataframe(site_df, downsample=downsample)\n",
    "    min_time = processed_df['TIMESTAMP_START'].min()\n",
    "    max_time = processed_df['TIMESTAMP_START'].max()\n",
    "    outfile = os.path.join(site_dir, f'{min_time}_{max_time}_{source}.csv')\n",
    "    processed_df.to_csv(outfile, index=False)"
   ]
  },
  {
   "cell_type": "code",
   "execution_count": 3,
   "metadata": {},
   "outputs": [
    {
     "data": {
      "text/plain": [
       "'data/intermediate/test_int_1/ameriflux/site_data.csv'"
      ]
     },
     "execution_count": 3,
     "metadata": {},
     "output_type": "execute_result"
    }
   ],
   "source": [
    "shutil.copyfile(META_FILE, os.path.join(OUTPUT_DIR, 'site_data.csv'))"
   ]
  }
 ],
 "metadata": {
  "kernelspec": {
   "display_name": "scratch",
   "language": "python",
   "name": "python3"
  },
  "language_info": {
   "codemirror_mode": {
    "name": "ipython",
    "version": 3
   },
   "file_extension": ".py",
   "mimetype": "text/x-python",
   "name": "python",
   "nbconvert_exporter": "python",
   "pygments_lexer": "ipython3",
   "version": "3.10.13"
  }
 },
 "nbformat": 4,
 "nbformat_minor": 2
}
