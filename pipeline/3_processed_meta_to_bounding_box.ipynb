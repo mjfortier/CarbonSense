{
 "cells": [
  {
   "cell_type": "markdown",
   "metadata": {},
   "source": [
    "# Make geojson for pulling MODIS data\n",
    "- Read the site metadata generated in the previous step\n",
    "- Calculate a 4km x 4km bounding box in WGS84\n",
    "- Ensure time format is compatible with colab script"
   ]
  },
  {
   "cell_type": "code",
   "execution_count": null,
   "metadata": {},
   "outputs": [],
   "source": [
    "import pandas as pd\n",
    "from shapely.geometry import Polygon\n",
    "from pyproj import Proj, transform, CRS\n",
    "from pyproj.aoi import AreaOfInterest\n",
    "from pyproj.database import query_utm_crs_info\n",
    "import geopandas as gpd\n",
    "from pathlib import Path"
   ]
  },
  {
   "cell_type": "code",
   "execution_count": null,
   "metadata": {},
   "outputs": [],
   "source": [
    "META_DIR = Path('data/meta')\n",
    "meta = pd.read_csv(META_DIR / 'processed_site_meta.csv')\n",
    "meta"
   ]
  },
  {
   "cell_type": "code",
   "execution_count": null,
   "metadata": {},
   "outputs": [],
   "source": [
    "def get_4km_polygon_wkt(lat, lon):\n",
    "    utm_crs_info = query_utm_crs_info(\n",
    "        area_of_interest=AreaOfInterest(west_lon_degree=lon, south_lat_degree=lat, east_lon_degree=lon, north_lat_degree=lat),\n",
    "        datum_name=\"WGS 84\"\n",
    "    )[0]\n",
    "    utm_crs = CRS.from_epsg(utm_crs_info.code)\n",
    "\n",
    "    # Projected coordinate system for accurate distance measurement\n",
    "    proj_utm = Proj(utm_crs)\n",
    "\n",
    "    # Convert the given lat/lon in WGS84 to UTM coordinates\n",
    "    x, y = proj_utm(lon, lat)\n",
    "\n",
    "    # Define the offsets (2km in each direction to form a 4km box)\n",
    "    offset = 2000  # meters\n",
    "\n",
    "    # Calculate the corners of the box in UTM coordinates\n",
    "    bottom_left = (x - offset, y - offset)\n",
    "    bottom_right = (x + offset, y - offset)\n",
    "    top_right = (x + offset, y + offset)\n",
    "    top_left = (x - offset, y + offset)\n",
    "\n",
    "    # Create a polygon from these corners\n",
    "    box = Polygon([bottom_left, bottom_right, top_right, top_left, bottom_left])\n",
    "\n",
    "    # Optionally, convert the polygon back to geographic coordinates (WGS84)\n",
    "    proj_wgs84 = Proj(proj='latlong', datum='WGS84')\n",
    "    lon_lat_polygon = transform(proj_utm, proj_wgs84, *box.exterior.xy)\n",
    "\n",
    "    # Create a new polygon in geographic coordinates\n",
    "    geo_polygon = Polygon(zip(lon_lat_polygon[0], lon_lat_polygon[1]))\n",
    "\n",
    "    return geo_polygon\n",
    "\n",
    "meta['geometry'] = meta.apply(lambda row: get_4km_polygon_wkt(row['LOCATION_LAT'], row['LOCATION_LON']), axis=1)\n",
    "meta"
   ]
  },
  {
   "cell_type": "code",
   "execution_count": null,
   "metadata": {},
   "outputs": [],
   "source": [
    "gdf = gpd.GeoDataFrame(meta, crs='EPSG:4326', geometry=meta['geometry'])\n",
    "gdf.to_file(META_DIR / 'sites.geojson', driver='GeoJSON')"
   ]
  }
 ],
 "metadata": {
  "kernelspec": {
   "display_name": "scratch",
   "language": "python",
   "name": "python3"
  },
  "language_info": {
   "codemirror_mode": {
    "name": "ipython",
    "version": 3
   },
   "file_extension": ".py",
   "mimetype": "text/x-python",
   "name": "python",
   "nbconvert_exporter": "python",
   "pygments_lexer": "ipython3",
   "version": "3.9.18"
  }
 },
 "nbformat": 4,
 "nbformat_minor": 2
}
