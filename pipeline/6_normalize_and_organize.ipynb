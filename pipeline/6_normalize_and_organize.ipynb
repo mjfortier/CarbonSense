{
 "cells": [
  {
   "cell_type": "code",
   "execution_count": null,
   "metadata": {},
   "outputs": [],
   "source": [
    "import numpy as np\n",
    "import os\n",
    "import ast\n",
    "import pickle as pkl\n",
    "import pandas as pd\n",
    "import yaml\n",
    "import json\n",
    "from pathlib import Path\n",
    "from tqdm import tqdm\n",
    "import matplotlib.pyplot as plt"
   ]
  },
  {
   "cell_type": "code",
   "execution_count": null,
   "metadata": {},
   "outputs": [],
   "source": [
    "MERGED_DIR = Path('data/merged')\n",
    "SITES = os.listdir(MERGED_DIR)\n",
    "MODIS_A4_DIR = Path('data/raw/modis_a4')\n",
    "MODIS_A2_DIR = Path('data/raw/modis_a2')"
   ]
  },
  {
   "cell_type": "code",
   "execution_count": 3,
   "metadata": {},
   "outputs": [],
   "source": [
    "# MCD42A2 water cover map - binarize\n",
    "water_dict = {\n",
    "    0: 1, # shallow ocean\n",
    "    1: 0, # land\n",
    "    2: 0, # ocean coastlines and lake shorelines\n",
    "    3: 1, # shallow inland water\n",
    "    4: 1, # ephemeral water\n",
    "    5: 1, # deep inland water\n",
    "    6: 1, # moderate or continental ocean\n",
    "    7: 1, # deep ocean\n",
    "    255: 0 # fill value, treat as land for simplicity\n",
    "}\n",
    "\n",
    "# For all MODIS bands, we're treating -1 as a fill value\n",
    "def clean_a4_data(arr):\n",
    "    arr = np.where((arr > 30000) | (arr < 0), -10000, arr)\n",
    "    arr = np.where(arr > 10000, 10000, arr)\n",
    "    arr = arr / 10000.0\n",
    "    return arr[:,1:9,1:9].astype(np.float32)\n",
    "\n",
    "def clean_a2_data(arr):\n",
    "    # Snow: 0 = no snow, 1 = snow, 255 = fill\n",
    "    snow_arr = np.where((arr[0] == 255), -1, arr[0]).astype(np.float32)\n",
    "    water_arr = np.vectorize(water_dict.get)(arr[2]).astype(np.float32)\n",
    "    return np.stack((snow_arr, water_arr), axis=0)[:,1:9,1:9]\n"
   ]
  },
  {
   "cell_type": "code",
   "execution_count": 4,
   "metadata": {},
   "outputs": [
    {
     "name": "stderr",
     "output_type": "stream",
     "text": [
      "  0%|          | 0/417 [00:00<?, ?it/s]"
     ]
    },
    {
     "name": "stderr",
     "output_type": "stream",
     "text": [
      "100%|██████████| 417/417 [01:01<00:00,  6.75it/s]\n"
     ]
    }
   ],
   "source": [
    "sites = os.listdir(MERGED_DIR)\n",
    "for site in tqdm(sites):\n",
    "    a2_file = MODIS_A2_DIR / f'{site}.pkl'\n",
    "    a4_file = MODIS_A4_DIR / f'{site}.pkl'\n",
    "    modis_processed = {}\n",
    "    if os.path.exists(MERGED_DIR / site / 'modis_a2.pkl'):\n",
    "        os.remove(MERGED_DIR / site / 'modis_a2.pkl', )\n",
    "    if os.path.exists(MERGED_DIR / site / 'modis_a4.pkl'):\n",
    "        os.remove(MERGED_DIR / site / 'modis_a4.pkl')\n",
    "\n",
    "    if os.path.exists(a2_file) and os.path.exists(a4_file):\n",
    "        with open(a2_file, 'rb') as f:\n",
    "            a2_raw = pkl.load(f)\n",
    "        with open(a4_file, 'rb') as f:\n",
    "            a4_raw = pkl.load(f)\n",
    "        for ts in a2_raw['pixel_values'].keys():\n",
    "            a4_pixels = clean_a4_data(a4_raw['pixel_values'][ts])\n",
    "            a2_pixels = clean_a2_data(a2_raw['pixel_values'][ts])\n",
    "            modis_processed[ts] = np.concatenate((a4_pixels, a2_pixels), axis=0)\n",
    "    \n",
    "    with open(MERGED_DIR / site / 'modis.pkl', 'wb') as f:\n",
    "        pkl.dump(modis_processed, f)"
   ]
  },
  {
   "cell_type": "markdown",
   "metadata": {},
   "source": [
    "# Tarring it up\n",
    "# starting in the data dir\n",
    "mkdir carbonsense_v2\n",
    "ln -s ../merged carbonsense_v2/site_data\n",
    "ln -s ../phenocam carbonsense_v2/phenocam\n",
    "tar hcvf carbonsense_v2.tar carbonsense_v2"
   ]
  }
 ],
 "metadata": {
  "kernelspec": {
   "display_name": "scratch",
   "language": "python",
   "name": "python3"
  },
  "language_info": {
   "codemirror_mode": {
    "name": "ipython",
    "version": 3
   },
   "file_extension": ".py",
   "mimetype": "text/x-python",
   "name": "python",
   "nbconvert_exporter": "python",
   "pygments_lexer": "ipython3",
   "version": "3.9.18"
  }
 },
 "nbformat": 4,
 "nbformat_minor": 2
}
