{
 "cells": [
  {
   "cell_type": "code",
   "execution_count": 1,
   "metadata": {},
   "outputs": [],
   "source": [
    "import numpy as np\n",
    "import os\n",
    "import ast\n",
    "import pickle as pkl\n",
    "import pandas as pd\n",
    "import yaml\n",
    "import json\n",
    "from pathlib import Path\n",
    "from tqdm import tqdm\n",
    "import matplotlib.pyplot as plt"
   ]
  },
  {
   "cell_type": "code",
   "execution_count": 2,
   "metadata": {},
   "outputs": [],
   "source": [
    "MERGED_DIR = Path('data/merged')\n",
    "SITES = os.listdir(MERGED_DIR)\n",
    "MODIS_A4_DIR = Path('data/raw/modis_a4')\n",
    "MODIS_A2_DIR = Path('data/raw/modis_a2')"
   ]
  },
  {
   "cell_type": "code",
   "execution_count": 3,
   "metadata": {},
   "outputs": [],
   "source": [
    "def load_meta(site):\n",
    "    with open(MERGED_DIR/site/'meta.json', 'r') as f:\n",
    "        return json.load(f)\n",
    "\n",
    "data = [load_meta(s) for s in SITES]\n",
    "meta_df = pd.DataFrame(data)"
   ]
  },
  {
   "cell_type": "code",
   "execution_count": 6,
   "metadata": {},
   "outputs": [],
   "source": [
    "cs_df = meta_df[['SITE_ID', 'LOCATION_LAT', 'LOCATION_LON', 'LOCATION_ELEV', 'MIN_DATE', 'MAX_DATE', 'SITE_NAME']]"
   ]
  },
  {
   "cell_type": "code",
   "execution_count": 8,
   "metadata": {},
   "outputs": [],
   "source": [
    "y_df = pd.read_csv('~/Downloads/site_summary_6Mar2025 - site_summary_6Mar2025.csv')"
   ]
  },
  {
   "cell_type": "code",
   "execution_count": 12,
   "metadata": {},
   "outputs": [],
   "source": [
    "y_sites = y_df['SITE_ID'].tolist()\n",
    "cs_sites = cs_df['SITE_ID'].tolist()"
   ]
  },
  {
   "cell_type": "code",
   "execution_count": 13,
   "metadata": {},
   "outputs": [
    {
     "data": {
      "text/plain": [
       "['AU-Tum',\n",
       " 'BR-Sa1',\n",
       " 'SJ-Blv',\n",
       " 'US-Ne2',\n",
       " 'US-Ne3',\n",
       " 'US-Cop',\n",
       " 'US-Ha1',\n",
       " 'US-MMS',\n",
       " 'US-Ne1',\n",
       " 'SE-Lnn']"
      ]
     },
     "execution_count": 13,
     "metadata": {},
     "output_type": "execute_result"
    }
   ],
   "source": [
    "[s for s in y_sites if s not in cs_sites]"
   ]
  },
  {
   "cell_type": "code",
   "execution_count": 18,
   "metadata": {},
   "outputs": [
    {
     "data": {
      "text/plain": [
       "42"
      ]
     },
     "execution_count": 18,
     "metadata": {},
     "output_type": "execute_result"
    }
   ],
   "source": [
    "len([s for s in cs_sites if s not in y_sites])"
   ]
  },
  {
   "cell_type": "code",
   "execution_count": 17,
   "metadata": {},
   "outputs": [],
   "source": [
    "cs_df.sort_values('SITE_ID').reset_index(drop=True).to_csv('carbonsense_site_summary.csv')"
   ]
  }
 ],
 "metadata": {
  "kernelspec": {
   "display_name": "scratch",
   "language": "python",
   "name": "python3"
  },
  "language_info": {
   "codemirror_mode": {
    "name": "ipython",
    "version": 3
   },
   "file_extension": ".py",
   "mimetype": "text/x-python",
   "name": "python",
   "nbconvert_exporter": "python",
   "pygments_lexer": "ipython3",
   "version": "3.9.18"
  }
 },
 "nbformat": 4,
 "nbformat_minor": 2
}
