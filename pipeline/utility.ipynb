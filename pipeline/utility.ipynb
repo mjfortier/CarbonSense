{
 "cells": [
  {
   "cell_type": "code",
   "execution_count": null,
   "metadata": {},
   "outputs": [],
   "source": [
    "import os\n",
    "import matplotlib.pyplot as plt\n",
    "import pandas as pd\n",
    "import numpy as np"
   ]
  },
  {
   "cell_type": "code",
   "execution_count": null,
   "metadata": {},
   "outputs": [],
   "source": [
    "# Examining variable histograms for normalization bound setting\n",
    "\n",
    "SITES = os.listdir('data/carbonsense_v2/site_data')\n",
    "var = 'P'\n",
    "\n",
    "# First loop to determine global min/max\n",
    "all_values = []  # List to collect all FCH4 values from all sites\n",
    "for site in SITES:\n",
    "    df = pd.read_csv(f'data/carbonsense_v2/site_data/{site}/data.csv')\n",
    "    site_values = df[var].dropna()\n",
    "    all_values.extend(site_values)\n",
    "\n",
    "\n",
    "vmin = 0\n",
    "vmax = 50\n",
    "num_lost = len([v for v in all_values if v < vmin or v > vmax])\n",
    "print(f'Data loss - {num_lost/len(all_values)}')\n",
    "# Set histogram parameters\n",
    "num_bins = 100\n",
    "bin_edges = np.linspace(vmin, vmax, num_bins + 1)\n",
    "\n",
    "# Create a single histogram for all sites\n",
    "plt.figure(figsize=(10, 6))\n",
    "plt.hist(all_values, bins=bin_edges, color='blue', edgecolor='black', alpha=0.7)\n",
    "plt.title(f\"{var} histogram\")\n",
    "plt.xlabel(var)\n",
    "plt.ylabel(\"Frequency\")\n",
    "plt.grid(True)"
   ]
  }
 ],
 "metadata": {
  "kernelspec": {
   "display_name": "scratch",
   "language": "python",
   "name": "python3"
  },
  "language_info": {
   "name": "python",
   "version": "3.9.18"
  }
 },
 "nbformat": 4,
 "nbformat_minor": 2
}
