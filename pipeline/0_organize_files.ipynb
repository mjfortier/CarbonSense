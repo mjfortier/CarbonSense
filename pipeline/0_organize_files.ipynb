{
 "cells": [
  {
   "cell_type": "code",
   "execution_count": 1,
   "metadata": {},
   "outputs": [],
   "source": [
    "import os\n",
    "import shutil\n",
    "from pathlib import Path\n",
    "import re"
   ]
  },
  {
   "cell_type": "code",
   "execution_count": 2,
   "metadata": {},
   "outputs": [],
   "source": [
    "DATA_DIR = Path('data')\n",
    "RAW_DIR = DATA_DIR / 'raw'\n",
    "RENAME_DIR = DATA_DIR / 'renamed'"
   ]
  },
  {
   "cell_type": "code",
   "execution_count": 3,
   "metadata": {},
   "outputs": [
    {
     "name": "stdout",
     "output_type": "stream",
     "text": [
      "No valid file found for US-Ne1\n",
      "No valid file found for US-Cop\n",
      "No valid file found for US-Ha1\n",
      "No valid file found for US-MMS\n"
     ]
    }
   ],
   "source": [
    "# Ameriflux\n",
    "release_name = 'ameriflux'\n",
    "release_raw = RAW_DIR / release_name\n",
    "release_renamed = RENAME_DIR / release_name\n",
    "\n",
    "def file_check(filename):\n",
    "    return 'FLUXNET_SUBSET_HH' in filename and 'VARINFO' not in filename\n",
    "\n",
    "os.makedirs(release_renamed, exist_ok=True)\n",
    "shutil.copy(release_raw / 'site_data.csv', release_renamed / 'site_data.csv')\n",
    "for site in os.listdir(release_raw / 'unzipped'):\n",
    "    site_dir = release_raw / 'unzipped' / site\n",
    "    files = os.listdir(site_dir)\n",
    "    valid_files = [f for f in files if file_check(f)]\n",
    "    if len(valid_files) == 0:\n",
    "        print(f'No valid file found for {site}')\n",
    "    elif len(valid_files) > 1:\n",
    "        print(f'Multiple valid files found for {site}')\n",
    "    else:\n",
    "        shutil.copy(site_dir / valid_files[0], release_renamed / f'{site}.csv')"
   ]
  },
  {
   "cell_type": "code",
   "execution_count": 4,
   "metadata": {},
   "outputs": [],
   "source": [
    "# Fluxnet CO2 release\n",
    "release_name = 'fluxnet'\n",
    "release_raw = RAW_DIR / release_name\n",
    "release_renamed = RENAME_DIR / release_name\n",
    "\n",
    "def file_check(filename):\n",
    "    return 'SUBSET_HH' in filename and 'VARINFO' not in filename\n",
    "\n",
    "os.makedirs(release_renamed, exist_ok=True)\n",
    "shutil.copy(release_raw / 'site_data.csv', release_renamed / 'site_data.csv')\n",
    "for site in os.listdir(release_raw / 'unzipped'):\n",
    "    site_dir = release_raw / 'unzipped' / site\n",
    "    files = os.listdir(site_dir)\n",
    "    valid_files = [f for f in files if file_check(f)]\n",
    "    if len(valid_files) == 0:\n",
    "        print(f'No valid file found for {site}')\n",
    "    elif len(valid_files) > 1:\n",
    "        print(f'Multiple valid files found for {site}')\n",
    "    else:\n",
    "        shutil.copy(site_dir / valid_files[0], release_renamed / f'{site}.csv')"
   ]
  },
  {
   "cell_type": "code",
   "execution_count": 5,
   "metadata": {},
   "outputs": [
    {
     "name": "stdout",
     "output_type": "stream",
     "text": [
      "No valid file found for FI-Kvr\n",
      "No valid file found for DE-BeR\n",
      "No valid file found for FI-Kmp\n"
     ]
    }
   ],
   "source": [
    "# ICOS 2023 release\n",
    "release_name = 'icos-2023'\n",
    "release_raw = RAW_DIR / release_name\n",
    "release_renamed = RENAME_DIR / release_name\n",
    "\n",
    "def file_check(filename):\n",
    "    return 'FLUXNET_HH_L2' in filename and 'VARINFO' not in filename\n",
    "\n",
    "os.makedirs(release_renamed, exist_ok=True)\n",
    "shutil.copy(release_raw / 'site_data.csv', release_renamed / 'site_data.csv')\n",
    "for site in os.listdir(release_raw / 'unzipped'):\n",
    "    site_dir = release_raw / 'unzipped' / site\n",
    "    files = os.listdir(site_dir)\n",
    "    valid_files = [f for f in files if file_check(f)]\n",
    "    if len(valid_files) == 0:\n",
    "        print(f'No valid file found for {site}')\n",
    "    elif len(valid_files) > 1:\n",
    "        print(f'Multiple valid files found for {site}')\n",
    "        print(valid_files)\n",
    "    else:\n",
    "        shutil.copy(site_dir / valid_files[0], release_renamed / f'{site}.csv')"
   ]
  },
  {
   "cell_type": "code",
   "execution_count": 6,
   "metadata": {},
   "outputs": [],
   "source": [
    "# ICOS Warm Winter release\n",
    "release_name = 'icos-ww'\n",
    "release_raw = RAW_DIR / release_name\n",
    "release_renamed = RENAME_DIR / release_name\n",
    "\n",
    "def file_check(filename):\n",
    "    return 'FULLSET_HH' in filename and 'VARINFO' not in filename\n",
    "\n",
    "os.makedirs(release_renamed, exist_ok=True)\n",
    "shutil.copy(release_raw / 'site_data.csv', release_renamed / 'site_data.csv')\n",
    "for site in os.listdir(release_raw / 'unzipped'):\n",
    "    site_dir = release_raw / 'unzipped' / site\n",
    "    files = os.listdir(site_dir)\n",
    "    valid_files = [f for f in files if file_check(f)]\n",
    "    if len(valid_files) == 0:\n",
    "        print(f'No valid file found for {site}')\n",
    "    elif len(valid_files) > 1:\n",
    "        print(f'Multiple valid files found for {site}')\n",
    "        print(valid_files)\n",
    "    else:\n",
    "        shutil.copy(site_dir / valid_files[0], release_renamed / f'{site}.csv')"
   ]
  },
  {
   "cell_type": "code",
   "execution_count": 7,
   "metadata": {},
   "outputs": [],
   "source": [
    "# Fluxnet CH4 release\n",
    "release_name = 'fluxnet-ch4'\n",
    "release_raw = RAW_DIR / release_name\n",
    "release_renamed = RENAME_DIR / release_name\n",
    "\n",
    "def file_check(filename):\n",
    "    return 'CH4_HH' in filename and 'VARINFO' not in filename\n",
    "\n",
    "os.makedirs(release_renamed, exist_ok=True)\n",
    "shutil.copy(release_raw / 'site_data.csv', release_renamed / 'site_data.csv')\n",
    "for site in os.listdir(release_raw / 'unzipped'):\n",
    "    site_dir = release_raw / 'unzipped' / site\n",
    "    site_name = site[4:10] # specific to this directory structure\n",
    "    files = os.listdir(site_dir)\n",
    "    valid_files = [f for f in files if file_check(f)]\n",
    "    if len(valid_files) == 0:\n",
    "        print(f'No valid file found for {site}')\n",
    "    elif len(valid_files) > 1:\n",
    "        print(f'Multiple valid files found for {site}')\n",
    "        print(valid_files)\n",
    "    else:\n",
    "        shutil.copy(site_dir / valid_files[0], release_renamed / f'{site_name}.csv')"
   ]
  }
 ],
 "metadata": {
  "kernelspec": {
   "display_name": "scratch",
   "language": "python",
   "name": "python3"
  },
  "language_info": {
   "codemirror_mode": {
    "name": "ipython",
    "version": 3
   },
   "file_extension": ".py",
   "mimetype": "text/x-python",
   "name": "python",
   "nbconvert_exporter": "python",
   "pygments_lexer": "ipython3",
   "version": "3.9.18"
  }
 },
 "nbformat": 4,
 "nbformat_minor": 2
}
